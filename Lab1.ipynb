{
  "nbformat": 4,
  "nbformat_minor": 0,
  "metadata": {
    "colab": {
      "provenance": [],
      "authorship_tag": "ABX9TyPVfamEKNoeJ2UDAJ4iofR/",
      "include_colab_link": true
    },
    "kernelspec": {
      "name": "python3",
      "display_name": "Python 3"
    },
    "language_info": {
      "name": "python"
    }
  },
  "cells": [
    {
      "cell_type": "markdown",
      "metadata": {
        "id": "view-in-github",
        "colab_type": "text"
      },
      "source": [
        "<a href=\"https://colab.research.google.com/github/AheliNandy-A/Python/blob/main/Lab1.ipynb\" target=\"_parent\"><img src=\"https://colab.research.google.com/assets/colab-badge.svg\" alt=\"Open In Colab\"/></a>"
      ]
    },
    {
      "cell_type": "markdown",
      "source": [
        "Q1 Celsius to Farenheit"
      ],
      "metadata": {
        "id": "laMrNmsPpAlG"
      }
    },
    {
      "cell_type": "code",
      "execution_count": null,
      "metadata": {
        "colab": {
          "base_uri": "https://localhost:8080/"
        },
        "id": "RbAQLNE0hvcY",
        "outputId": "99faf0e7-7dd3-4f58-cf39-c27d83f98cd0"
      },
      "outputs": [
        {
          "output_type": "stream",
          "name": "stdout",
          "text": [
            "Enter temperature in celsius: 47\n",
            "47.00 Celsius is equal to 116.60 farenheit\n"
          ]
        }
      ],
      "source": [
        "celsius = float(input(\"Enter temperature in celsius: \"))\n",
        "farenheit = (celsius * 1.8) + 32\n",
        "print(\"%.2f Celsius is equal to %.2f farenheit\"%(celsius,farenheit))"
      ]
    },
    {
      "cell_type": "markdown",
      "source": [
        "Q2 Swap two numbers"
      ],
      "metadata": {
        "id": "NwLnN0Y-pRMX"
      }
    },
    {
      "cell_type": "code",
      "source": [
        "num1 = int(input(\"Enter first number: \"))\n",
        "num2 =int (input(\"Enter second number: \"))\n",
        "\n",
        "print(\"Before Swapping numbers are num1: %d, num2: %d: \" %(num1,num2))\n",
        "temp = num1\n",
        "num1 = num2\n",
        "num2 = temp\n",
        "\n",
        "print(\"After Swapping numbers are num1: %d, num2: %d: \" %(num1,num2))"
      ],
      "metadata": {
        "colab": {
          "base_uri": "https://localhost:8080/"
        },
        "id": "YQGOQi3clGZ9",
        "outputId": "a06236d6-c21d-48df-8ed4-4b79abf3960a"
      },
      "execution_count": null,
      "outputs": [
        {
          "output_type": "stream",
          "name": "stdout",
          "text": [
            "Enter first number: 50\n",
            "Enter second number: 25\n",
            "Before Swapping numbers are num1: 50, num2: 25: \n",
            "After Swapping numbers are num1: 25, num2: 50: \n"
          ]
        }
      ]
    },
    {
      "cell_type": "markdown",
      "source": [
        "Q3: Given year is leap year or not"
      ],
      "metadata": {
        "id": "Qu5E__p8sYxG"
      }
    },
    {
      "cell_type": "code",
      "source": [
        "year = int(input(\"Enter a year \"))\n",
        "if (year % 4 == 0 and year % 100 != 0) or (year % 400 == 0):\n",
        "    print(f\"{year} is a leap year.\")\n",
        "else:\n",
        "    print(f\"{year} is not a leap year.\")"
      ],
      "metadata": {
        "id": "G22Idhrlp049",
        "colab": {
          "base_uri": "https://localhost:8080/"
        },
        "outputId": "729dcf53-6676-4858-d00c-60685f486eb8"
      },
      "execution_count": 2,
      "outputs": [
        {
          "output_type": "stream",
          "name": "stdout",
          "text": [
            "Enter a year 2024\n",
            "2024 is a leap year.\n"
          ]
        }
      ]
    },
    {
      "cell_type": "markdown",
      "source": [
        "Q4. Display reverse of a number"
      ],
      "metadata": {
        "id": "RRQCIrhuhs9Q"
      }
    },
    {
      "cell_type": "code",
      "source": [
        "num = int(input(\"Enter a number \"))\n",
        "\n",
        "num1 = num\n",
        "sum = 0\n",
        "while num1 != 0:\n",
        "  digit = num1 % 10\n",
        "  sum = (sum*10)+digit\n",
        "  num1 = num1 // 10\n",
        "\n",
        "print(f\"Reverse of {num} is {sum}\")"
      ],
      "metadata": {
        "colab": {
          "base_uri": "https://localhost:8080/"
        },
        "id": "iYQflsvshsgT",
        "outputId": "2b6f241f-79bf-4c6e-ef8e-84705b85b058"
      },
      "execution_count": 6,
      "outputs": [
        {
          "output_type": "stream",
          "name": "stdout",
          "text": [
            "Enter a number 125\n",
            "Reverse of 125 is 521\n"
          ]
        }
      ]
    },
    {
      "cell_type": "markdown",
      "source": [
        "Q5. Factors of a given number"
      ],
      "metadata": {
        "id": "gEZTzv6HjDfg"
      }
    },
    {
      "cell_type": "code",
      "source": [
        "num = int(input(\"Enter a number \"))\n",
        "\n",
        "print(f\"Factors of {num} are: \")\n",
        "for i in range(1, num + 1):\n",
        "  if num % i == 0:\n",
        "    print(i)"
      ],
      "metadata": {
        "colab": {
          "base_uri": "https://localhost:8080/"
        },
        "id": "5D76Im2-jIjo",
        "outputId": "26ab6014-985b-461b-eaf4-0fb6effd5c5e"
      },
      "execution_count": 8,
      "outputs": [
        {
          "output_type": "stream",
          "name": "stdout",
          "text": [
            "Enter a number 6\n",
            "Factors of 6 are: \n",
            "1\n",
            "2\n",
            "3\n",
            "6\n"
          ]
        }
      ]
    },
    {
      "cell_type": "markdown",
      "source": [
        "Q6. Generate prime number series up to n"
      ],
      "metadata": {
        "id": "E9NceaC5kFL6"
      }
    },
    {
      "cell_type": "code",
      "source": [
        "n = int(input(\"Enter value for n: \"))\n",
        "\n",
        "print(f\"Prime numbers up to {n} are:\")\n",
        "\n",
        "for i in range(2, n + 1):\n",
        "    is_prime = True\n",
        "    for j in range(2, int(i ** 0.5) + 1):\n",
        "        if i % j == 0:\n",
        "            is_prime = False\n",
        "            break\n",
        "    if is_prime:\n",
        "        print(i)"
      ],
      "metadata": {
        "colab": {
          "base_uri": "https://localhost:8080/"
        },
        "id": "E0-cwTprjbeg",
        "outputId": "53afccd6-d123-477b-8d05-8e5716e1a899"
      },
      "execution_count": 14,
      "outputs": [
        {
          "output_type": "stream",
          "name": "stdout",
          "text": [
            "Enter value for n: 25\n",
            "Prime numbers up to 25 are:\n",
            "2\n",
            "3\n",
            "5\n",
            "7\n",
            "11\n",
            "13\n",
            "17\n",
            "19\n",
            "23\n"
          ]
        }
      ]
    },
    {
      "cell_type": "markdown",
      "source": [
        "Q7. Write a program which makes use of function to display all such numbers which are divisible by 7 but are not a multiple of 5, between 1000 and 2000."
      ],
      "metadata": {
        "id": "gvYeUP3rmVaa"
      }
    },
    {
      "cell_type": "code",
      "source": [
        "def find_numbers():\n",
        "    results = []\n",
        "    for num in range(1000, 2001):\n",
        "        if num % 7 == 0 and num % 5 != 0:\n",
        "            results.append(num)\n",
        "    print(\"Numbers divisible by 7 but not a multiple of 5 between 1000 and 2000 are:\")\n",
        "    print(results)\n",
        "find_numbers()\n"
      ],
      "metadata": {
        "colab": {
          "base_uri": "https://localhost:8080/"
        },
        "id": "_OcShLTMmU9V",
        "outputId": "08137ad7-7b06-4cb6-a9d8-bfa234ab7588"
      },
      "execution_count": 15,
      "outputs": [
        {
          "output_type": "stream",
          "name": "stdout",
          "text": [
            "Numbers divisible by 7 but not a multiple of 5 between 1000 and 2000 are:\n",
            "[1001, 1008, 1022, 1029, 1036, 1043, 1057, 1064, 1071, 1078, 1092, 1099, 1106, 1113, 1127, 1134, 1141, 1148, 1162, 1169, 1176, 1183, 1197, 1204, 1211, 1218, 1232, 1239, 1246, 1253, 1267, 1274, 1281, 1288, 1302, 1309, 1316, 1323, 1337, 1344, 1351, 1358, 1372, 1379, 1386, 1393, 1407, 1414, 1421, 1428, 1442, 1449, 1456, 1463, 1477, 1484, 1491, 1498, 1512, 1519, 1526, 1533, 1547, 1554, 1561, 1568, 1582, 1589, 1596, 1603, 1617, 1624, 1631, 1638, 1652, 1659, 1666, 1673, 1687, 1694, 1701, 1708, 1722, 1729, 1736, 1743, 1757, 1764, 1771, 1778, 1792, 1799, 1806, 1813, 1827, 1834, 1841, 1848, 1862, 1869, 1876, 1883, 1897, 1904, 1911, 1918, 1932, 1939, 1946, 1953, 1967, 1974, 1981, 1988]\n"
          ]
        }
      ]
    },
    {
      "cell_type": "markdown",
      "source": [
        "Q8. Given number is palindrome or not."
      ],
      "metadata": {
        "id": "iPqDmoSem0fM"
      }
    },
    {
      "cell_type": "code",
      "source": [
        "num = int(input(\"Enter a number: \"))\n",
        "\n",
        "num1 = num\n",
        "sum = 0\n",
        "while num1 != 0:\n",
        "  digit = num1 % 10\n",
        "  sum = sum * 10 + digit\n",
        "  num1 = num1 / 10\n",
        "\n",
        "if sum == num:\n",
        "  print(f\"{num} is a palindrome number\")\n",
        "else:\n",
        "  print(f\"{num} is not a palindrome number\")"
      ],
      "metadata": {
        "colab": {
          "base_uri": "https://localhost:8080/"
        },
        "id": "cGOHfOscm7aG",
        "outputId": "098a6009-ed4c-491e-b52d-f36f21dffc29"
      },
      "execution_count": 16,
      "outputs": [
        {
          "output_type": "stream",
          "name": "stdout",
          "text": [
            "Enter a number: 125\n",
            "125 is not a palindrome number\n"
          ]
        }
      ]
    }
  ]
}